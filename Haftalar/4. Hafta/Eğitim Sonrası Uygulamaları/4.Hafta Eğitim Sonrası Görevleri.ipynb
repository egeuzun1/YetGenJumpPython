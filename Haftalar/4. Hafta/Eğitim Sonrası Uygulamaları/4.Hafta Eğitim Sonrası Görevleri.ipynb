{
 "cells": [
  {
   "cell_type": "markdown",
   "metadata": {},
   "source": [
    "# Problem 1\n",
    "`ogrenciler` adında bir sözlük oluşturunuz. Kullanıcıdan döngü yardımıyla 3 öğrenci için veri girmesini isteyerek öğrencilerin sırasıyla okul numarası, isim, soy isim, telefon numarası ve doğum tarihi bilgilerini alınız. Aldığınız öğrenci bilgilerini yine aynı döngü yardımıyla `ogrenciler` adındaki sözlükte saklayınız. Daha sonra öğrenci bilgilerinin bulunduğu sözlük yapısını ekrana bastırınız.\n",
    "\n"
   ]
  },
  {
   "cell_type": "code",
   "execution_count": 21,
   "metadata": {},
   "outputs": [
    {
     "name": "stdout",
     "output_type": "stream",
     "text": [
      "{1: ['50737', 'Ege', 'UZUN', '0544 672 45 12', '10/04/2009'], 2: ['45672', 'Nil', 'Güzellale', '0567 217 83 46', '19/01/2004'], 3: ['23011', 'Alp', 'Canlısay', '0523 246 55 38', '19/01/2005']}\n"
     ]
    }
   ],
   "source": [
    "# 1.Problemin Çözümünü Buraya Yazınız\n",
    "ogrenciler = {\n",
    "    1 : [],\n",
    "    2 : [],\n",
    "    3 : []\n",
    "}\n",
    "ogrenciNum=1\n",
    "for i in range(3):\n",
    "   ogrenciler[ogrenciNum].append(input(\"Öğrencinin okul numarasını giriniz: \"))\n",
    "   ogrenciler[ogrenciNum].append(input(\"Öğrencinin ismini giriniz: \"))\n",
    "   ogrenciler[ogrenciNum].append(input(\"Öğrencinin soyismini giriniz: \"))\n",
    "   ogrenciler[ogrenciNum].append(input(\"Öğrencinin telefon numarasını giriniz: \"))\n",
    "   ogrenciler[ogrenciNum].append(input(\"Öğrencinin doğum tarihini (gg/aa/yyyy formatında) giriniz: \"))\n",
    "   ogrenciNum += 1\n",
    "\n",
    "print(ogrenciler)"
   ]
  },
  {
   "cell_type": "markdown",
   "metadata": {},
   "source": [
    "# Problem 2\n",
    "\n",
    "### a - Biraz ısınarak başlayalım!\n",
    "\n",
    "```\n",
    "numbers = [5,10,10,15,15,15,20,20,20,20]\n",
    "```\n",
    "\n",
    "Yukarıda `numbers` adında 10 elemanlı bir liste verilmiştir. Bu listenin her elemanını kontrol eden ve tekrar eden elemanları bir kez olacak şekilde başka bir listeye kopyalayan bir program yazınız. Son olarak oluşturduğunuz listeyi ekrana bastırınız.\n",
    "\n",
    "\n",
    "\n",
    "\n",
    "```\n",
    ">Output\n",
    "[5, 10, 15, 20]\n",
    "```\n"
   ]
  },
  {
   "cell_type": "code",
   "execution_count": 28,
   "metadata": {},
   "outputs": [
    {
     "name": "stdout",
     "output_type": "stream",
     "text": [
      "[10, 15, 20]\n"
     ]
    }
   ],
   "source": [
    "# 2.Problemin a Şıkkının Çözümünü Buraya Yazınız\n",
    "numbers=[5,10,10,15,15,15,20,20,20,20]\n",
    "repeatNumbers=[]\n",
    "for i in numbers:\n",
    "    if numbers.count(i)>1 and not(i in repeatNumbers):\n",
    "        repeatNumbers.append(i)\n",
    "print(repeatNumbers)"
   ]
  },
  {
   "cell_type": "markdown",
   "metadata": {},
   "source": [
    "### 🌶️ b) Hadi işi biraz daha zorlaştıralım! \n",
    "\n",
    "\n",
    "Şimdiyse senden `numbers` isimli listedeki tekrar eden elemanları `repeatNumbers` adındaki listeye; tekrar etmeyen elemanları `uniqueNumbers`adındaki listeye kopyalayan yazmanı ve listeleri ekrana bastırmanı bekliyoruz\n",
    "\n",
    "```\n",
    ">Output\n",
    "Tekrar Eden Elemanlar: [10, 10, 15, 15, 15, 20, 20, 20, 20]\n",
    "Tekrar Etmeyen Elemanlar: [5]\n",
    "```"
   ]
  },
  {
   "cell_type": "code",
   "execution_count": 32,
   "metadata": {},
   "outputs": [
    {
     "name": "stdout",
     "output_type": "stream",
     "text": [
      "Tekrar Eden Elemanlar: [10, 10, 15, 15, 15, 20, 20, 20, 20]\n",
      "Tekrar Etmeyen Elemanlar: [5]\n"
     ]
    }
   ],
   "source": [
    "# 2.Problemin b Şıkkının Çözümünü Buraya Yazınız\n",
    "numbers=[5,10,10,15,15,15,20,20,20,20]\n",
    "repeatNumbers=[]\n",
    "uniqueNumbers=[]\n",
    "for i in numbers:\n",
    "    if numbers.count(i)>1:\n",
    "        repeatNumbers.append(i)\n",
    "    elif numbers.count(i)==1:\n",
    "        uniqueNumbers.append(i)\n",
    "print(\"Tekrar Eden Elemanlar:\",repeatNumbers)\n",
    "print(\"Tekrar Etmeyen Elemanlar:\",uniqueNumbers)"
   ]
  },
  {
   "cell_type": "markdown",
   "metadata": {},
   "source": [
    "# Problem 3\n",
    "sn1 = {1,2,3,4,5}\n",
    "\n",
    "sn2 = {4,5,6,7,8}\n",
    "\n",
    " Verilen 2 adet küme için kesişimlerini, farklarını ve birleşimlerini bulunuz. "
   ]
  },
  {
   "cell_type": "code",
   "execution_count": 40,
   "metadata": {},
   "outputs": [
    {
     "name": "stdout",
     "output_type": "stream",
     "text": [
      "Birinci Küme: {1, 2, 3, 4, 5}\n",
      "İkinci Küme: {4, 5, 6, 7, 8}\n",
      "Bu iki kümenin kesişimi: {4, 5}\n",
      "Sn1 kümesinin Sn2 kümesinden farkı: {1, 2, 3}\n",
      "Sn2 kümesinin Sn1 kümesinden farkı: {8, 6, 7}\n",
      "Bu iki kümenin birleşimi: {1, 2, 3, 4, 5, 6, 7, 8}\n"
     ]
    }
   ],
   "source": [
    "# 3.Problemin Çözümünü Buraya Yazınız\n",
    "sn1={1,2,3,4,5}\n",
    "sn2={4,5,6,7,8}\n",
    "print(\"Birinci Küme:\",sn1)\n",
    "print(\"İkinci Küme:\",sn2)\n",
    "print(\"Bu iki kümenin kesişimi:\",sn1.intersection(sn2))\n",
    "print(\"Sn1 kümesinin Sn2 kümesinden farkı:\", sn1.difference(sn2))\n",
    "print(\"Sn2 kümesinin Sn1 kümesinden farkı:\", sn2.difference(sn1))\n",
    "print(\"Bu iki kümenin birleşimi:\",sn1.union(sn2))\n"
   ]
  },
  {
   "cell_type": "markdown",
   "metadata": {},
   "source": [
    "# Problem 4\n",
    "\n",
    "Buradaki işlemlerimizin tamamı stringler içindir. Aşağıda verilecek olan metodlar için kendinizin örnek yaratması gerekmektedir. \n",
    "\n",
    "Örneğin `upper` için `string` değişkeni oluştururken` k = \"BAC\"` şeklinde oluşturmayınız. Bunun yerine k değişkenini `k = \"bac`\" şeklinde oluşturmanız `upper` metodundaki değişimi görebilmeniz için daha iyi olacaktır.\n",
    "\n",
    "Bütün metodlardaki değişimin gözle görülür şekilde değişimi beklenmektedir.\n",
    "\n",
    "\n",
    "1- capitalize(), lower(), upper(), swapcase(), title(), replace()\n",
    "\n",
    "2- endswith(), startswith(), find(), index(), count()\n",
    "\n",
    "3- split(), strip(), join(), islower(), isalpha(), isdigit()\n",
    "\n",
    "\n",
    "Yukarıdaki `string` metodlarındaki değişimleri görebildiğimiz bir program yazınız.\n"
   ]
  },
  {
   "cell_type": "code",
   "execution_count": 84,
   "metadata": {},
   "outputs": [
    {
     "name": "stdout",
     "output_type": "stream",
     "text": [
      "1=>\n",
      "a: yetgen\n",
      "a: Yetgen (capitalize fonksiyonu)\n",
      "\n",
      "b: YETGEN\n",
      "b: yetgen (lower fonksiyonu)\n",
      "\n",
      "a: Yetgen\n",
      "a: YETGEN (upper fonksiyonu)\n",
      "\n",
      "c: YetGen\n",
      "c: yETgEN (swapcase fonksiyonu)\n",
      "\n",
      "d: yetgen bitmez\n",
      "d: Yetgen Bitmez (title fonksiyonu)\n",
      "\n",
      "c: YetGen\n",
      "c: YitGin ((e'leri i ile) replace fonksiyonu)\n",
      "\n",
      "2=>\n",
      "e: YetGen Bitmez\n",
      "e stringi 'z' harfi ile mi bitiyor? True (endswith fonksiyonu)\n",
      "e stringi 'a' harfi ile mi bitiyor? False (endswith fonksiyonu)\n",
      "\n",
      "e stringi 'E' harfi ile mi başlıyor? False (startswith fonksiyonu)\n",
      "e stringi 'Y' harfi ile mi başlıyor? True (startswith fonksiyonu)\n",
      "\n",
      "'n' harfi e stringinin kaçıncı indexinde? 5 (find fonksiyonu)\n",
      "'n' harfi e stringinin kaçıncı indexinde? 5 (index fonksiyonu)\n",
      "'s' harfi e stringinin kaçıncı indexinde? -1 (find fonksiyonu) Not:'s' harfi e stringinde olmadığı için find fonksiyonu '-1' döndürür. Notun devamı için koda bakınız.\n",
      "\n",
      "e stringinde 't' harfi kaç kere bulunur? 2 (count fonksiyonu)\n",
      "\n",
      "3=>\n",
      "f: YetGen Bitmez Bitemez\n",
      "f: ['YetGen', 'Bitmez', 'Bitemez'] ((boşluklara göre) split fonksiyonu)\n",
      "\n",
      "g: (   YetGen      ) Not: Değişimin daha belirgin olabilmesi için g stringinin başına ve sonuna parantez konulmuştur.\n",
      "g: (YetGen) (strip fonksiyonu)\n",
      "\n",
      "h: ['YetGen', 'Jump', 'Python'] <class 'list'>\n",
      "h: YetGen-Jump-Python ((- ile) join fonksiyonu) <class 'str'>\n",
      "\n",
      "i: yetgen j: YetGen\n",
      "i stringinin her karakteri küçük mü? True (islower fonksiyonu)\n",
      "j stringinin her karakteri küçük mü? False (islower fonksiyonu)\n",
      "\n",
      "j: YetGen l: a1b2c3\n",
      "j stringinin her karakteri bir harf mi? True (isalpha fonksiyonu)\n",
      "l stringinin her karakteri bir harf mi? False (isalpha fonksiyonu)\n",
      "\n",
      "k: 12345 l: a1b2c3\n",
      "k stringinin her karakteri bir rakam mı? True (isdigit fonksiyonu)\n",
      "l stringinin her karakteri bir rakam mı? False (isdigit fonksiyonu)\n",
      "\n"
     ]
    }
   ],
   "source": [
    "# 4.Problemin Çözümünü Buraya Yazınız\n",
    "print(\"1=>\")\n",
    "a=\"yetgen\"\n",
    "b=\"YETGEN\"\n",
    "c=\"YetGen\"\n",
    "d=\"yetgen bitmez\"\n",
    "\n",
    "print(\"a:\",a)\n",
    "a=a.capitalize()\n",
    "print(\"a:\",a,\"(capitalize fonksiyonu)\")\n",
    "print()\n",
    "\n",
    "print(\"b:\",b)\n",
    "b=b.lower()\n",
    "print(\"b:\",b,\"(lower fonksiyonu)\")\n",
    "print()\n",
    "\n",
    "print(\"a:\",a)\n",
    "a=a.upper()\n",
    "print(\"a:\",a,\"(upper fonksiyonu)\")\n",
    "print()\n",
    "\n",
    "print(\"c:\",c)\n",
    "c=c.swapcase()\n",
    "print(\"c:\",c,\"(swapcase fonksiyonu)\")\n",
    "print()\n",
    "\n",
    "print(\"d:\",d)\n",
    "d=d.title()\n",
    "print(\"d:\",d,\"(title fonksiyonu)\")\n",
    "print()\n",
    "\n",
    "c=c.swapcase()\n",
    "print(\"c:\",c)\n",
    "c=c.replace(\"e\",\"i\")\n",
    "print(\"c:\",c,\"((e'leri i ile) replace fonksiyonu)\")\n",
    "\n",
    "print()\n",
    "print(\"2=>\")\n",
    "e=\"YetGen Bitmez\"\n",
    "print(\"e:\",e)\n",
    "\n",
    "print(\"e stringi 'z' harfi ile mi bitiyor?\", e.endswith(\"z\"), \"(endswith fonksiyonu)\")\n",
    "print(\"e stringi 'a' harfi ile mi bitiyor?\", e.endswith(\"a\"), \"(endswith fonksiyonu)\")\n",
    "print()\n",
    "\n",
    "print(\"e stringi 'E' harfi ile mi başlıyor?\", e.startswith(\"E\"), \"(startswith fonksiyonu)\")\n",
    "print(\"e stringi 'Y' harfi ile mi başlıyor?\", e.startswith(\"Y\"), \"(startswith fonksiyonu)\")\n",
    "print()\n",
    "\n",
    "print(\"'n' harfi e stringinin kaçıncı indexinde?\", e.find(\"n\"),\"(find fonksiyonu)\")\n",
    "print(\"'n' harfi e stringinin kaçıncı indexinde?\", e.index(\"n\"),\"(index fonksiyonu)\")\n",
    "print(\"'s' harfi e stringinin kaçıncı indexinde?\", e.find(\"s\"),\"(find fonksiyonu)\",\n",
    "      \"Not:'s' harfi e stringinde olmadığı için find fonksiyonu '-1' döndürür. Notun devamı için koda bakınız.\")\n",
    "'''find fonksiyonunun index fonksiyonundan farkı, aranan değer bulunamayınca find fonksiyonu \"-1\" döndürürken \n",
    "index fonksiyonu \"ValueError\" verir, bu yüzden kodun devam edebilmesi için index fonksiyonu konulamamıştır.'''\n",
    "#Denenmek için bir alt satırdaki kod çalıştırılıp ValueError verdiği görülebilir.\n",
    "#print(\"'s' harfi e stringinin kaçıncı indexinde?\", e.index(\"s\"))\n",
    "print()\n",
    "\n",
    "print(\"e stringinde 't' harfi kaç kere bulunur?\",e.count(\"t\"),\"(count fonksiyonu)\")\n",
    "\n",
    "print()\n",
    "print(\"3=>\")\n",
    "f=\"YetGen Bitmez Bitemez\"\n",
    "g=\"   YetGen      \"\n",
    "h=[\"YetGen\",\"Jump\",\"Python\"]\n",
    "i=\"yetgen\"\n",
    "j=\"YetGen\"\n",
    "k=\"12345\"\n",
    "l=\"a1b2c3\"\n",
    "\n",
    "print(\"f:\",f)\n",
    "print(\"f:\",f.split(\" \"),\"((boşluklara göre) split fonksiyonu)\")\n",
    "print()\n",
    "\n",
    "print(\"g: \",\"(\",g,\")\",\" Not: Değişimin daha belirgin olabilmesi için g stringinin başına ve sonuna parantez konulmuştur.\",sep=\"\")\n",
    "print(\"g: \",\"(\",g.strip(),\")\",\" (strip fonksiyonu)\",sep=\"\")\n",
    "print()\n",
    "\n",
    "print(\"h:\",h,type(h)) \n",
    "print(\"h:\",\"-\".join(h),\"((- ile) join fonksiyonu)\",type(\"-\".join(h)))\n",
    "print()\n",
    "\n",
    "print(\"i:\",i,\"j:\",j)\n",
    "print(\"i stringinin her karakteri küçük mü?\",i.islower(),\"(islower fonksiyonu)\")\n",
    "print(\"j stringinin her karakteri küçük mü?\",j.islower(),\"(islower fonksiyonu)\")\n",
    "print()\n",
    "\n",
    "print(\"j:\",j,\"l:\",l)\n",
    "print(\"j stringinin her karakteri bir harf mi?\",j.isalpha(),\"(isalpha fonksiyonu)\")\n",
    "print(\"l stringinin her karakteri bir harf mi?\",l.isalpha(),\"(isalpha fonksiyonu)\")\n",
    "print()\n",
    "\n",
    "print(\"k:\",k,\"l:\",l)\n",
    "print(\"k stringinin her karakteri bir rakam mı?\",k.isdigit(),\"(isdigit fonksiyonu)\")\n",
    "print(\"l stringinin her karakteri bir rakam mı?\",l.isdigit(),\"(isdigit fonksiyonu)\")\n",
    "print()"
   ]
  }
 ],
 "metadata": {
  "kernelspec": {
   "display_name": "Python 3.10.5 64-bit",
   "language": "python",
   "name": "python3"
  },
  "language_info": {
   "codemirror_mode": {
    "name": "ipython",
    "version": 3
   },
   "file_extension": ".py",
   "mimetype": "text/x-python",
   "name": "python",
   "nbconvert_exporter": "python",
   "pygments_lexer": "ipython3",
   "version": "3.12.3"
  },
  "orig_nbformat": 4,
  "vscode": {
   "interpreter": {
    "hash": "5026d2d6e7aaaaba093def813beadff083d8733e4a511af01735cbabd156995d"
   }
  }
 },
 "nbformat": 4,
 "nbformat_minor": 2
}
