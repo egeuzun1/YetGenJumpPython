{
  "cells": [
    {
      "cell_type": "markdown",
      "metadata": {
        "id": "tsD4YVAe_Te2"
      },
      "source": [
        "# Problem 1\n",
        "Bir sayının 7'ye bölünebilir olup olmadığını kontrol etmek \n",
        "için bir program yazın.\n",
        "\n",
        "İpucu: Mod operatörünü (%) kullanabilirsiniz."
      ]
    },
    {
      "cell_type": "code",
      "execution_count": 3,
      "metadata": {
        "id": "NGjvNwKx_Te7"
      },
      "outputs": [
        {
          "name": "stdout",
          "output_type": "stream",
          "text": [
            "5 yediye tam bölünebilen bir sayı değildir.\n"
          ]
        }
      ],
      "source": [
        "# 1.Problemin Çözümünü Buraya Yazınız\n",
        "x = int(input(\"Sayıyı giriniz: \"))\n",
        "if x % 7 == 0:\n",
        "    print(f\"{x} yediye tam bölünebilen bir sayıdır.\")\n",
        "else: \n",
        "    print(f\"{x} yediye tam bölünebilen bir sayı değildir.\")"
      ]
    },
    {
      "cell_type": "markdown",
      "metadata": {
        "id": "Kg3qiBAI_Te8"
      },
      "source": [
        "# Problem 2\n",
        "Kullanıcıdan vize ve final notu isteyin. Girilen vize notunun %40’ı ve \n",
        "girilen finalnotunun ise %60’ı alınarak yıl sonu not ortalaması hesaplanacaktır. \n",
        "\n",
        "Bu not ortalaması eğer 85 ve üzeri ise AA, \n",
        "\n",
        "75 ve 85 arasında ise BA, \n",
        "\n",
        "70 ve 75 arasında ise BB, \n",
        "\n",
        "65 ve 70 arasında ise CB,\n",
        "\n",
        "60 ve 65 arasında ise CC,\n",
        "\n",
        "55 ve 60 arasında ise DC,\n",
        "\n",
        "50 ve 55 arasında ise DD olarak hesaplanacaktır. \n",
        "\n",
        "Bu öğrencinin yıl sonu toplam notu 50’nin altında ise FF ile dersten kalacaktır. \n",
        "\n",
        "Ayrıca öğrencinin final notu 50’nin altında ise direkt FF ile kalacaktır."
      ]
    },
    {
      "cell_type": "code",
      "execution_count": 40,
      "metadata": {
        "id": "MXTtCxI1_Te8"
      },
      "outputs": [
        {
          "name": "stdout",
          "output_type": "stream",
          "text": [
            "Yıl sonu not ortalamnız: 78.0\n",
            "BA ile dersten geçtiniz.\n"
          ]
        }
      ],
      "source": [
        "#2.Problemin Çözümünü Buraya Yazınız\n",
        "vize = float(input(\"Vize notunuzu giriniz: \"))\n",
        "final = float(input(\"Final notunuzu giriniz: \"))\n",
        "\n",
        "yilSonu = vize * 2 / 5 + final * 3 / 5\n",
        "print(f\"Yıl sonu not ortalamnız: {yilSonu}\")\n",
        "if yilSonu >= 85:\n",
        "    aralik = \"AA\"\n",
        "elif yilSonu >= 75:\n",
        "    aralik = \"BA\"\n",
        "elif yilSonu >= 70:\n",
        "    aralik = \"BB\"\n",
        "elif yilSonu >= 65:\n",
        "    aralik = \"CB\"\n",
        "elif yilSonu >= 60:\n",
        "    aralik = \"CC\"\n",
        "elif yilSonu >= 55:\n",
        "    aralik = \"DC\"\n",
        "elif yilSonu >= 50:\n",
        "    aralik = \"DD\"\n",
        "elif yilSonu < 50:\n",
        "    aralik = \"FF\"\n",
        "elif final < 50:\n",
        "    aralik = \"FF\"\n",
        "    print(\"Final notunuz 50'nin altında olduğu için \")\n",
        "if aralik == \"FF\":\n",
        "    print(aralik + \" ile dersten kaldınız.\")\n",
        "else:\n",
        "    print(aralik + \" ile dersten geçtiniz.\")"
      ]
    },
    {
      "cell_type": "markdown",
      "metadata": {
        "id": "tAoRYCTC_Te8"
      },
      "source": [
        "# Problem 3\n",
        "İki YetGenli Zirve'de karşılaşıyorlar. Birbirlerini tanımak için sorular soruyorlar. Birbirlerine yaşlarını soruyorlar. Akıllarına bir Python programı yazıp, yaşlarını ve isimlerini giriyorlar. Büyük olanın yaşını ekrana yazdıran programı yazıyorlar. Sende bu iki YetGenli'ye destek olmak ister misin?\n",
        "\n",
        "```\n",
        "Birinci YetGenlinin ismi: Ahmet\n",
        "Birinci YetGenlinin yaşı : 20\n",
        "İkinci YetGenlinin ismi: Mehmet\n",
        "İkinci YetGenlinin yaşı : 25\n",
        "Mehmet'in yaşı daha büyük ve yaşı 25'tir.\n",
        "```"
      ]
    },
    {
      "cell_type": "code",
      "execution_count": 42,
      "metadata": {
        "id": "bPjE8W0i_Te8"
      },
      "outputs": [
        {
          "name": "stdout",
          "output_type": "stream",
          "text": [
            "Uygar adlı kişinin yaşı daha büyüktür ve Uygar 22 yaşındadır.\n"
          ]
        }
      ],
      "source": [
        "# 3.Problemin Çözümünü Buraya Yazınız\n",
        "isim1=input(\"Birinci YetGenlinin ismini giriniz: \")\n",
        "yas1=int(input(\"Birinci YetGenlinin yaşını giriniz: \"))\n",
        "isim2=input(\"İkinci YetGenlinin ismini giriniz: \")\n",
        "yas2=int(input(\"İkinci YetGenlinin yaşını giriniz: \"))\n",
        "\n",
        "if yas1 > yas2:\n",
        "    print(f\"{isim1} adlı kişinin yaşı daha büyüktür ve {isim1} {yas1} yaşındadır.\")\n",
        "elif yas2 > yas1:\n",
        "     print(f\"{isim2} adlı kişinin yaşı daha büyüktür ve {isim2} {yas2} yaşındadır.\")\n",
        "elif yas1 == yas2:\n",
        "     print(f\"{isim1} ve {isim2} aynı yaştadırlar ve ikisi de {yas1} yaşındadır.\")"
      ]
    },
    {
      "cell_type": "markdown",
      "metadata": {
        "id": "zBVv8Tyg_Te9"
      },
      "source": [
        "# Problem 4\n",
        "Pandemi döneminde AVM'lerde ateş ölçümü yapılıyor. AVM'ye giren kişinin ateş ölçümü 37.5 derecenin altında ise girişe izin veriliyor. 37.5 derecenin üstünde ise girişe izin verilmiyor. AVM'ye girişe izin verilip verilmediğini ekrana yazdıran bir program yazın.\n",
        "\n",
        "Program sonunda şöyle bir çıktı elde etmelisiniz:\n",
        "\n",
        "```\n",
        "Ateşiniz 37.5 derece. AVM'ye girebilirsin! Maske takmayı unutma!\n",
        "Ateşiniz 37.6 derece. AVM'ye giremezsin! Hemen evine dön!\n",
        "```"
      ]
    },
    {
      "cell_type": "code",
      "execution_count": 64,
      "metadata": {
        "id": "TSAXs8et_Te9"
      },
      "outputs": [
        {
          "name": "stdout",
          "output_type": "stream",
          "text": [
            "Ateşiniz 36.5 derece. AVM'ye girebilirsin! Maske takmayı unutma!\n"
          ]
        }
      ],
      "source": [
        "# 4.Problemin Çözümünü Buraya Yazınız\n",
        "ates = float(input(\"Ateşiniz kaç derece? \"))\n",
        "if ates <= 37.5:\n",
        "    print(f\"Ateşiniz {ates} derece. AVM'ye girebilirsin! Maske takmayı unutma!\")\n",
        "#elif ates > 100:\n",
        "    #print(\"Alev atıyorsun, hemen evine dön, buralar için fazla ateşlisin! \")\n",
        "elif ates > 37.5:\n",
        "    print(f\"Ateşiniz {ates} derece. AVM'ye giremezsin! Hemen evine dön!\")"
      ]
    },
    {
      "cell_type": "markdown",
      "metadata": {
        "id": "6AEkZrDt_Te9"
      },
      "source": [
        "# Problem 5\n",
        "YetGen bir spor kulübüyle sponsorluk anlaşması yapıyor. Kulüp, sponsorluk anlaşmasına göre her YetGen liderinin beden kitle indeksini hesaplamak istiyor. Spor kulübü, beden kitle indeksini hesaplamak için YetGen Jump Python liderlerinden Berkcan ve Ahmet'i arıyor. Berkcan ve Ahmet, kulübe yardımcı olmak için bir Python programı yazıyorlar. Sende bu iki YetGen liderine destek olmak ister misin?\n",
        "\n",
        "Kullanıcıdan alınan boy ve kilo değerlerine göre beden kitle indeksini hesaplayın ve şu kurallara göre ekrana şu yazıları yazdırın.\n",
        "\n",
        "\n",
        "Beden Kitle İndeksi, kişinin ağırlığının (kg olarak) boyunun karesine (m olarak) bölünmesiyle hesaplanır.\n",
        "\n",
        "\n",
        "```\n",
        " BKİ 18.5'un altındaysa -------> Zayıf\n",
        "\n",
        " BKİ 18.5 ile 25 arasındaysa ------> Normal\n",
        "\n",
        " BKİ 25 ile 30 arasındaysa --------> Fazla Kilolu\n",
        "\n",
        " BKİ 30'un üstündeyse -------------> Obez\n",
        "```\n",
        "\n"
      ]
    },
    {
      "cell_type": "code",
      "execution_count": 82,
      "metadata": {
        "id": "t-XPI_u0_Te-"
      },
      "outputs": [
        {
          "name": "stdout",
          "output_type": "stream",
          "text": [
            "Beden Kitle İndeksiniz: 22.857142857142858\n",
            "Durumunuz: Normal\n"
          ]
        }
      ],
      "source": [
        "# 5.Problemin Çözümünü Buraya Yazınız\n",
        "agirlik = float(input(\"Kilonuzu (kilogram olarak) giriniz: \"))\n",
        "boy = float(input(\"Boyunuzu (metre olarak) giriniz: \"))\n",
        "indeks = agirlik / boy**2\n",
        "\n",
        "print(f\"Beden Kitle İndeksiniz: {indeks}\")\n",
        "durum = \"None\"\n",
        "if indeks < 18.5: \n",
        "    durum = \"Zayıf\"\n",
        "elif indeks >= 18.5 and indeks < 25:\n",
        "    durum = \"Normal\"\n",
        "elif indeks >= 25 and indeks < 30:\n",
        "    durum = \"Fazla Kilolu\"\n",
        "elif indeks >= 30:\n",
        "    durum = \"Obez\"\n",
        "print(\"Durumunuz: \" + durum)\n",
        "      "
      ]
    },
    {
      "cell_type": "markdown",
      "metadata": {
        "id": "oFsvQyaO_Te-"
      },
      "source": [
        "# Problem 6\n",
        "Kullanıcıdan isim, yaş ve eğitim bilgilerini isteyip ehliyet alabilme  durumunu kontrol ediniz. \n",
        "\n",
        "Ehliyet alma koşulu en az 18 yaşında ve eğitim durumu lise ya da üniversite olmalıdır. "
      ]
    },
    {
      "cell_type": "code",
      "execution_count": 113,
      "metadata": {
        "id": "Tu2mcgco_Te-"
      },
      "outputs": [
        {
          "name": "stdout",
          "output_type": "stream",
          "text": [
            "Ehliyet alabilirsiniz.\n"
          ]
        }
      ],
      "source": [
        "# 6.Problemin Çözümünü Buraya Yazınız\n",
        "isim = input(\"İsminizi giriniz: \")\n",
        "yas = int(input(\"Yaşınızı giriniz: \"))\n",
        "egitim = input(\"Eğitim durumunuz: (Lütfen ilkokul, ortaokul, lise ya da üniversite şeklinde belirtiniz.)\")\n",
        "\n",
        "if yas >= 18:\n",
        "    if egitim == \"lise\" or egitim == \"Lise\" or egitim == \"üniversite\" or egitim == \"Üniversite\":\n",
        "        print(\"Ehliyet alabilirsiniz.\")\n",
        "    else: \n",
        "        print(\"Yaşınız tutsa da eğitim durumunuz tutmamaktadır, ehliyet alamazsınız.\")\n",
        "else:\n",
        "    print(\"Yaşınız tutmamaktadır, ehliyet alamazsınız.\")\n"
      ]
    },
    {
      "cell_type": "markdown",
      "metadata": {
        "id": "eUkxVSAE_Te_"
      },
      "source": [
        "# Problem 7\n",
        "Bir yılın artık yıl olup olmadığını kontrol etmek için bir program yazın. \n",
        "Artık yıl kuralı:\n",
        "\n",
        "a) Eğer yılın son iki basamağı (00) ile bitmiyor ve yalnızca 4'e tam bölünüyorsa artık yıldır. Ya da, \n",
        "\n",
        "b) Eğer yıl 400'e tam bölünüyorsa artık yıldır.\n",
        "\n",
        "**Örneğin**\n",
        "```\n",
        "2017 artık yıl değildir.\n",
        "1900 artık yıl değildir\n",
        "2012 artık yıldır.\n",
        "2000 artık yıldır.\n",
        "```"
      ]
    },
    {
      "cell_type": "code",
      "execution_count": 122,
      "metadata": {
        "id": "4uWh8qUL_Te_"
      },
      "outputs": [
        {
          "name": "stdout",
          "output_type": "stream",
          "text": [
            "2024 artık yıldır.\n"
          ]
        }
      ],
      "source": [
        "# 7.Problemin Çözümünü Buraya Yazınız\n",
        "yil=int(input(\"Kontrol edilecek yılı giriniz: \"))\n",
        "if yil % 100==0:\n",
        "    if yil % 400 == 0:\n",
        "        print(f\"{yil} artık yıldır.\")\n",
        "    else:\n",
        "        print(f\"{yil} artık yıl değildir.\")\n",
        "elif yil % 4==0:\n",
        "    print(f\"{yil} artık yıldır.\")\n",
        "else:\n",
        "    print(f\"{yil} artık yıl değildir.\")"
      ]
    }
  ],
  "metadata": {
    "colab": {
      "provenance": []
    },
    "kernelspec": {
      "display_name": "Python 3.10.5 64-bit",
      "language": "python",
      "name": "python3"
    },
    "language_info": {
      "codemirror_mode": {
        "name": "ipython",
        "version": 3
      },
      "file_extension": ".py",
      "mimetype": "text/x-python",
      "name": "python",
      "nbconvert_exporter": "python",
      "pygments_lexer": "ipython3",
      "version": "3.12.3"
    },
    "orig_nbformat": 4,
    "vscode": {
      "interpreter": {
        "hash": "5026d2d6e7aaaaba093def813beadff083d8733e4a511af01735cbabd156995d"
      }
    }
  },
  "nbformat": 4,
  "nbformat_minor": 0
}
