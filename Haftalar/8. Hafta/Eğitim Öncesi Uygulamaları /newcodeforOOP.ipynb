{
 "cells": [
  {
   "cell_type": "code",
   "execution_count": 15,
   "metadata": {},
   "outputs": [
    {
     "name": "stdout",
     "output_type": "stream",
     "text": [
      "İsim: ege Soyisim: uzun Age: 15\n",
      "İsim: eda Soyisim: kasalar Age: 16\n"
     ]
    }
   ],
   "source": [
    "class person():\n",
    "    def __init__(self,name,surname,age=15):\n",
    "        self.name=name\n",
    "        self.surname=surname\n",
    "        self.age=age\n",
    "person1=person(\"ege\",\"uzun\")\n",
    "person2=person(\"eda\",\"kasalar\",16)\n",
    "\n",
    "people=[person1,person2]\n",
    "\n",
    "for p in people:\n",
    "    print(f\"İsim: {p.name} Soyisim: {p.surname} Age: {p.age}\")\n",
    "\n",
    "    "
   ]
  }
 ],
 "metadata": {
  "kernelspec": {
   "display_name": "Python 3",
   "language": "python",
   "name": "python3"
  },
  "language_info": {
   "codemirror_mode": {
    "name": "ipython",
    "version": 3
   },
   "file_extension": ".py",
   "mimetype": "text/x-python",
   "name": "python",
   "nbconvert_exporter": "python",
   "pygments_lexer": "ipython3",
   "version": "3.12.3"
  }
 },
 "nbformat": 4,
 "nbformat_minor": 2
}
