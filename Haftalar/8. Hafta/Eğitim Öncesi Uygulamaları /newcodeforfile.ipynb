{
 "cells": [
  {
   "cell_type": "code",
   "execution_count": 12,
   "metadata": {},
   "outputs": [
    {
     "name": "stdout",
     "output_type": "stream",
     "text": [
      "Egi\n",
      "UZUN\n",
      "Yit\n",
      "gin\n"
     ]
    }
   ],
   "source": [
    "with open(\"file.txt\",\"r+\") as file:\n",
    "    icerik=file.read()\n",
    "    icerik=icerik.replace(\"e\",\"i\")\n",
    "    file.seek(0)\n",
    "    file.write(icerik)\n",
    "    file.seek(0)\n",
    "    print(file.read())\n"
   ]
  }
 ],
 "metadata": {
  "kernelspec": {
   "display_name": "Python 3",
   "language": "python",
   "name": "python3"
  },
  "language_info": {
   "codemirror_mode": {
    "name": "ipython",
    "version": 3
   },
   "file_extension": ".py",
   "mimetype": "text/x-python",
   "name": "python",
   "nbconvert_exporter": "python",
   "pygments_lexer": "ipython3",
   "version": "3.12.3"
  }
 },
 "nbformat": 4,
 "nbformat_minor": 2
}
