{
 "cells": [
  {
   "cell_type": "code",
   "execution_count": 14,
   "metadata": {},
   "outputs": [
    {
     "name": "stdout",
     "output_type": "stream",
     "text": [
      "ekleniyor\n",
      "ege uzun ['german', 'Turkish']\n"
     ]
    }
   ],
   "source": [
    "class student():\n",
    "    def __init__(self,name,surname,languages):\n",
    "        self.name=name\n",
    "        self.surname=surname\n",
    "        self.languages=list(languages)\n",
    "    def dil_ekle(self,yeni_dil):\n",
    "        print(\"ekleniyor\")\n",
    "        self.languages.append(yeni_dil)\n",
    "ege=student(\"ege\",\"uzun\",[\"german\"])\n",
    "ege.dil_ekle(\"Turkish\")\n",
    "print(ege.name,ege.surname,ege.languages)\n",
    "\n"
   ]
  }
 ],
 "metadata": {
  "kernelspec": {
   "display_name": "Python 3",
   "language": "python",
   "name": "python3"
  },
  "language_info": {
   "codemirror_mode": {
    "name": "ipython",
    "version": 3
   },
   "file_extension": ".py",
   "mimetype": "text/x-python",
   "name": "python",
   "nbconvert_exporter": "python",
   "pygments_lexer": "ipython3",
   "version": "3.12.3"
  }
 },
 "nbformat": 4,
 "nbformat_minor": 2
}
