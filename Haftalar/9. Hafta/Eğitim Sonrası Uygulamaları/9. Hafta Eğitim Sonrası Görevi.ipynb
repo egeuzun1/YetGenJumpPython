{
 "cells": [
  {
   "attachments": {},
   "cell_type": "markdown",
   "metadata": {},
   "source": [
    "# Problem 1\n",
    "\n",
    "Kumanda isminde bir sınıf oluşturarak aşağıdaki işlemleri yapmasını sağlayan fonksiyonları sınıf içerisinde yazalım.\n",
    "1. Tv Aç\n",
    "2. Tv Kapat\n",
    "3. Ses Ayarları\n",
    "4. Kanal Ekle\n",
    "5. Kanal Sayısını Öğrenme\n",
    "6. Rastgele Kanala Geçme\n",
    "7. Televizyon Bilgileri\n",
    "\n",
    "\n",
    "Kumandayı kapatmak için q tuşuna basılmalı ve diğer durumlarda hangi işlemi yapmak istediği sorulmalıdır. Her işlemde gerekli fonksiyonunun sınıf içerisinden çağırılması gerekmektedir.\n",
    "\n",
    "random ve time kütüphanesini araştırarak kullanabilirsiniz.\n",
    "\n",
    "Kendi istediğiniz özellikleri eklemekte serbetsiniz."
   ]
  },
  {
   "cell_type": "code",
   "execution_count": 6,
   "metadata": {},
   "outputs": [
    {
     "ename": "NameError",
     "evalue": "name 'self' is not defined",
     "output_type": "error",
     "traceback": [
      "\u001b[0;31m---------------------------------------------------------------------------\u001b[0m",
      "\u001b[0;31mNameError\u001b[0m                                 Traceback (most recent call last)",
      "Cell \u001b[0;32mIn[6], line 5\u001b[0m\n\u001b[1;32m      2\u001b[0m \u001b[38;5;28;01mfrom\u001b[39;00m \u001b[38;5;21;01mtime\u001b[39;00m \u001b[38;5;28;01mimport\u001b[39;00m \u001b[38;5;241m*\u001b[39m\n\u001b[1;32m      3\u001b[0m \u001b[38;5;28;01mfrom\u001b[39;00m \u001b[38;5;21;01mrandom\u001b[39;00m \u001b[38;5;28;01mimport\u001b[39;00m \u001b[38;5;241m*\u001b[39m\n\u001b[0;32m----> 5\u001b[0m \u001b[38;5;28;43;01mclass\u001b[39;49;00m\u001b[43m \u001b[49m\u001b[38;5;21;43;01mkumanda\u001b[39;49;00m\u001b[43m(\u001b[49m\u001b[43m)\u001b[49m\u001b[43m:\u001b[49m\n\u001b[1;32m      6\u001b[0m \u001b[43m    \u001b[49m\u001b[38;5;28;43;01mdef\u001b[39;49;00m\u001b[43m \u001b[49m\u001b[38;5;21;43m__init__\u001b[39;49m\u001b[43m(\u001b[49m\u001b[38;5;28;43mself\u001b[39;49m\u001b[43m,\u001b[49m\u001b[43misOpen\u001b[49m\u001b[43m,\u001b[49m\u001b[43mses_seviyesi\u001b[49m\u001b[43m,\u001b[49m\u001b[43mkanallar\u001b[49m\u001b[43m)\u001b[49m\u001b[43m:\u001b[49m\n\u001b[1;32m      7\u001b[0m \u001b[43m        \u001b[49m\u001b[38;5;28;43mself\u001b[39;49m\u001b[38;5;241;43m.\u001b[39;49m\u001b[43misOpen\u001b[49m\u001b[38;5;241;43m=\u001b[39;49m\u001b[43misOpen\u001b[49m\n",
      "Cell \u001b[0;32mIn[6], line 37\u001b[0m, in \u001b[0;36mkumanda\u001b[0;34m()\u001b[0m\n\u001b[1;32m     34\u001b[0m     \u001b[38;5;28mprint\u001b[39m(\u001b[38;5;124mf\u001b[39m\u001b[38;5;124m\"\u001b[39m\u001b[38;5;124mSes Seviyesi: \u001b[39m\u001b[38;5;132;01m{\u001b[39;00m\u001b[38;5;28mself\u001b[39m\u001b[38;5;241m.\u001b[39mses_seviyesi\u001b[38;5;132;01m}\u001b[39;00m\u001b[38;5;124m\"\u001b[39m)\n\u001b[1;32m     36\u001b[0m kanallarDict\u001b[38;5;241m=\u001b[39m{}\n\u001b[0;32m---> 37\u001b[0m \u001b[38;5;28;01mwith\u001b[39;00m \u001b[38;5;28mopen\u001b[39m(\u001b[38;5;28;43mself\u001b[39;49m\u001b[38;5;241m.\u001b[39mkanallar, \u001b[38;5;124m'\u001b[39m\u001b[38;5;124mr\u001b[39m\u001b[38;5;124m'\u001b[39m) \u001b[38;5;28;01mas\u001b[39;00m file:\n\u001b[1;32m     38\u001b[0m     \u001b[38;5;28;01mfor\u001b[39;00m line \u001b[38;5;129;01min\u001b[39;00m file:\n\u001b[1;32m     39\u001b[0m         key, value \u001b[38;5;241m=\u001b[39m line\u001b[38;5;241m.\u001b[39mstrip()\u001b[38;5;241m.\u001b[39msplit(\u001b[38;5;124m\"\u001b[39m\u001b[38;5;124m : \u001b[39m\u001b[38;5;124m\"\u001b[39m)\n",
      "\u001b[0;31mNameError\u001b[0m: name 'self' is not defined"
     ]
    }
   ],
   "source": [
    "# 1.Problemin Çözümünü Buraya Yazınız\n",
    "from time import *\n",
    "from random import *\n",
    "\n",
    "class kumanda():\n",
    "    def __init__(self,isOpen,ses_seviyesi,kanallar):\n",
    "        self.isOpen=isOpen\n",
    "        self.ses_seviyesi=int(ses_seviyesi)\n",
    "        self.kanallar=kanallar\n",
    "\n",
    "    def TvAç(self):\n",
    "        print(\"...Televizyon Açılıyor...\")\n",
    "        sleep(2.5)\n",
    "        self.isOpen=True\n",
    "    \n",
    "    def TvKapa(self):\n",
    "        print(\"...Televizyon Kapanıyor...\")\n",
    "        sleep(1.5)\n",
    "        self.isOpen=False\n",
    "    \n",
    "    def SesAyarlari(self):\n",
    "        print(f\"Ses Seviyesi: {self.ses_seviyesi}\")\n",
    "        ses_degisimi=input(\"Ses seviyesini arttırmak için '+', azaltmak için '-' giriniz: (Koyduğunuz her bir işaret 1 birim değişim yapacaktır, Örn. +++ -> +3, -- -> -2)\")\n",
    "        while not(ses_degisimi.startswith(\"+\")) and not(ses_degisimi.startswith(\"-\")):\n",
    "            ses_degisimi=input(\"Lütfen doğru bir giriş yapınız, '+' ya da '-' giriniz: \")\n",
    "        if ses_degisimi.startswith(\"+\"):\n",
    "            count=ses_degisimi.count(\"+\")\n",
    "            for i in range(1,count+1):\n",
    "                self.ses_seviyesi += 1\n",
    "        elif ses_degisimi.startswith(\"-\"):\n",
    "            count=ses_degisimi.count(\"-\")\n",
    "            for i in range(1,count+1):\n",
    "                self.ses_seviyesi -= 1\n",
    "        print(f\"Ses Seviyesi: {self.ses_seviyesi}\")\n",
    "    #########\n",
    "    def KanalEkle(self):\n",
    "        kanallarDict={}\n",
    "        with open(self.kanallar, 'r') as file:\n",
    "            for line in file:\n",
    "                key, value = line.strip().split(\" : \")\n",
    "                key = key.strip('\"')\n",
    "            value = int(value.rstrip(','))\n",
    "            kanallarDict[key] = value\n",
    "        channelNum=len(kanallarDict.keys())+1\n",
    "        yeniKanal=input(\"Lütfen eklemek istediğiniz kanalın ismini giriniz. (Sıra olarak mevcut kanalların en sonuna eklenecektir.)\")\n",
    "        self.kanallar[yeniKanal]=channelNum\n",
    "        \n",
    "\n",
    "        print(channels_dict)\n",
    "        sleep(2)\n",
    "        print(f\"{yeniKanal} {channelNum}. kanala eklenmiştir.\")\n",
    "        print(self.kanallar)\n",
    "            \n",
    "            ######\n",
    "\n",
    "\n",
    "\n",
    "                    ######\n",
    "TV=kumanda(True,25,\"KanalListesi.txt\")\n",
    "print(\"1. Tv Aç\\n2. Tv Kapat\\n3. Ses Ayarları\\n4. Kanal Ekle\\n5. Kanal Sayısını Öğrenme\\n6. Rastgele Kanala Geçme\\n7. Televizyon Bilgileri\\n\\n(Kumandayı kapatmak için lütfen 'q' tuşuna basınız.)\")\n",
    "option=input(\"Ne yapmak istersiniz? (Lütfen Sayı Olarak Giriniz)\")\n",
    "\n",
    "while not(option.isdigit()) or int(option)>7 or int(option)<1:\n",
    "    option=input(\"Lütfen doğru bir değer giriniz.\")\n",
    "option=int(option)\n",
    "\n",
    "TV.KanalEkle()####\n",
    "\n",
    "#option function"
   ]
  }
 ],
 "metadata": {
  "kernelspec": {
   "display_name": "Python 3",
   "language": "python",
   "name": "python3"
  },
  "language_info": {
   "codemirror_mode": {
    "name": "ipython",
    "version": 3
   },
   "file_extension": ".py",
   "mimetype": "text/x-python",
   "name": "python",
   "nbconvert_exporter": "python",
   "pygments_lexer": "ipython3",
   "version": "3.12.3"
  },
  "orig_nbformat": 4,
  "vscode": {
   "interpreter": {
    "hash": "5026d2d6e7aaaaba093def813beadff083d8733e4a511af01735cbabd156995d"
   }
  }
 },
 "nbformat": 4,
 "nbformat_minor": 2
}
